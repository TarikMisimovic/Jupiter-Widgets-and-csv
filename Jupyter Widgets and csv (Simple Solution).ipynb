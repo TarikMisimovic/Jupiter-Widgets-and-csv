{
 "cells": [
  {
   "cell_type": "markdown",
   "metadata": {},
   "source": [
    "## Task: Create CSV file using a form\n",
    "\n",
    "Imagine you want to check for the presence of students. To do this, you want to enter the following data for each student: First name, surname, subject.\n",
    "\n",
    "There are 5 different subjects:\n",
    "\n",
    "- maths\n",
    "- informatics\n",
    "- philosophy\n",
    "- cultural studies\n",
    "- psychology\n",
    "\n",
    "Task: Create a comfortable form with which you can enter the students! After each step, make sure that all data entered so far is saved in a.csv file (students.csv). There should be 3 columns in the.csv file: First name, surname and subject.\n",
    "\n",
    "Use a text field for the first or last name and a selection menu for the subject with which the subject can be selected. Then create a button with which the current student is written into the.csv file and the next student can then be entered using the form."
   ]
  },
  {
   "cell_type": "code",
   "execution_count": 1,
   "metadata": {},
   "outputs": [
    {
     "data": {
      "application/vnd.jupyter.widget-view+json": {
       "model_id": "329563ae6ece49a3ba238b3e7922acb2",
       "version_major": 2,
       "version_minor": 0
      },
      "text/plain": [
       "Text(value='', description='First name:')"
      ]
     },
     "metadata": {},
     "output_type": "display_data"
    },
    {
     "data": {
      "application/vnd.jupyter.widget-view+json": {
       "model_id": "cd6ee456339a4adab75bc23f24045f04",
       "version_major": 2,
       "version_minor": 0
      },
      "text/plain": [
       "Text(value='', description='Surname:')"
      ]
     },
     "metadata": {},
     "output_type": "display_data"
    },
    {
     "data": {
      "application/vnd.jupyter.widget-view+json": {
       "model_id": "fb8ccedb03564ab1980ae8a735360bf3",
       "version_major": 2,
       "version_minor": 0
      },
      "text/plain": [
       "Dropdown(description='Subject:', options=('---', 'maths', 'informatics', 'philosophy', 'cultural science', 'ps…"
      ]
     },
     "metadata": {},
     "output_type": "display_data"
    },
    {
     "data": {
      "application/vnd.jupyter.widget-view+json": {
       "model_id": "2f7e76ebf561429db176485dfd1336f4",
       "version_major": 2,
       "version_minor": 0
      },
      "text/plain": [
       "Button(description='Save!', style=ButtonStyle())"
      ]
     },
     "metadata": {},
     "output_type": "display_data"
    }
   ],
   "source": [
    "import csv\n",
    "import ipywidgets as widgets\n",
    "from IPython.display import display\n",
    "\n",
    "firstname = widgets.Text(description=\"First name:\", value=\"\")\n",
    "display(firstname)\n",
    "\n",
    "lastname = widgets.Text(description=\"Surname:\", value=\"\")\n",
    "display(lastname)\n",
    "\n",
    "subject_options = [\n",
    "    \"---\",\n",
    "    \"maths\", \n",
    "    \"informatics\", \n",
    "    \"philosophy\", \n",
    "    \"cultural science\", \n",
    "    \"psychology\"\n",
    "]\n",
    "\n",
    "subject = widgets.Dropdown(description=\"Subject:\", options=subject_options)\n",
    "display(subject)\n",
    "\n",
    "button = widgets.Button(description=\"Save!\")\n",
    "display(button)\n",
    "\n",
    "def button_click(event):\n",
    "    firstname_value = firstname.value\n",
    "    lastname_value = lastname.value\n",
    "    subject_value = subject.value\n",
    "    \n",
    "    if firstname_value != \"\" and lastname_value != \"\" and subject_value != \"---\":\n",
    "        with open(\"./students.csv\", \"a\", newline=\"\", encoding=\"utf-8\") as f:\n",
    "            writer = csv.writer(f, delimiter=\";\")\n",
    "            writer.writerow([firstname_value, lastname_value, subject_value])\n",
    "        firstname.value = \"\"\n",
    "        lastname.value = \"\"\n",
    "        subject.value = \"---\"\n",
    "        \n",
    "    else:\n",
    "        print(\"Please fill in the form correctly\")\n",
    "    \n",
    "button.on_click(button_click)"
   ]
  },
  {
   "cell_type": "code",
   "execution_count": null,
   "metadata": {
    "collapsed": true
   },
   "outputs": [],
   "source": []
  }
 ],
 "metadata": {
  "kernelspec": {
   "display_name": "Python 3",
   "language": "python",
   "name": "python3"
  },
  "language_info": {
   "codemirror_mode": {
    "name": "ipython",
    "version": 3
   },
   "file_extension": ".py",
   "mimetype": "text/x-python",
   "name": "python",
   "nbconvert_exporter": "python",
   "pygments_lexer": "ipython3",
   "version": "3.8.5"
  }
 },
 "nbformat": 4,
 "nbformat_minor": 2
}
